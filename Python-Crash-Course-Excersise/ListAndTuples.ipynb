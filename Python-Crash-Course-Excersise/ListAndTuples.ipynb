{
 "cells": [
  {
   "cell_type": "code",
   "execution_count": 2,
   "metadata": {},
   "outputs": [
    {
     "name": "stdout",
     "output_type": "stream",
     "text": [
      "[12, 13, 45, 67]\n",
      "67\n"
     ]
    }
   ],
   "source": [
    "#1.Program to Find the Largest Number in a List\n",
    "nums = []\n",
    "for i in range(1,5):\n",
    "    num = int(input(\"Enter a number : \"))\n",
    "    nums.append(num)\n",
    "print(nums)\n",
    "max = 0\n",
    "for i,num in enumerate(nums):\n",
    "    if max < num:\n",
    "        max = num\n",
    "    else:\n",
    "        continue\n",
    "\n",
    "print(max)"
   ]
  },
  {
   "cell_type": "code",
   "execution_count": 3,
   "metadata": {},
   "outputs": [],
   "source": [
    "#2. Program to Find the Second Largest Number in a List\n",
    "nums = []\n",
    "for i in range(1,5):\n",
    "    num = int(input(\"Enter a number : \"))\n",
    "    nums.append(num)\n",
    "print(nums)\n",
    "\n",
    "nums.sort()\n",
    "print(nums[-2])\n"
   ]
  },
  {
   "cell_type": "code",
   "execution_count": 2,
   "metadata": {},
   "outputs": [
    {
     "name": "stdout",
     "output_type": "stream",
     "text": [
      "[1, 2, 3, 4, 5, 6, 7, 8, 9]\n",
      "[2, 4, 6, 8]\n",
      "[1, 3, 5, 7, 9]\n"
     ]
    }
   ],
   "source": [
    "#3.Program to Put Even and Odd elements in a List into Two Different Lists\n",
    "\n",
    "nums = []\n",
    "for i in range(1,10):\n",
    "    num = int(input(\"Enter a number:\"))\n",
    "    nums.append(num)\n",
    "print(nums)\n",
    "\n",
    "even =[]\n",
    "odd =[]\n",
    "\n",
    "for i,num in enumerate(nums):\n",
    "    if(num % 2 == 0):\n",
    "        even.append(num)\n",
    "    else:\n",
    "        odd.append(num)\n",
    "print(even)\n",
    "print(odd)\n"
   ]
  },
  {
   "cell_type": "code",
   "execution_count": 13,
   "metadata": {},
   "outputs": [
    {
     "name": "stdout",
     "output_type": "stream",
     "text": [
      "[0, 1, 2, 7, 11, 12, 45, 56, 67, 83] sorted list\n"
     ]
    }
   ],
   "source": [
    "#4.Program to Merge Two Lists and Sort it\n",
    "\n",
    "list1 = [1,45,67,0,11]\n",
    "list2 = [2,83,56,12,7]\n",
    "merge_list = list1+list2\n",
    "merge_list.sort()\n",
    "print(f\"{merge_list} sorted list\")"
   ]
  },
  {
   "cell_type": "code",
   "execution_count": 15,
   "metadata": {},
   "outputs": [
    {
     "data": {
      "text/plain": [
       "[[9, 4], [5, 21], [6, 32], [1, 45]]"
      ]
     },
     "execution_count": 15,
     "metadata": {},
     "output_type": "execute_result"
    }
   ],
   "source": [
    "#5.Program to Sort the List According to the Second Element in Sublist\n",
    "\n",
    "li = [[1,45],[9,4],[5,21],[6,32]]\n",
    "li.sort( key = lambda x :x[1])\n",
    "li"
   ]
  },
  {
   "cell_type": "code",
   "execution_count": 18,
   "metadata": {},
   "outputs": [
    {
     "data": {
      "text/plain": [
       "['kiwi',\n",
       " 'apple',\n",
       " 'lemon',\n",
       " 'orange',\n",
       " 'banana',\n",
       " 'lichee',\n",
       " 'blueberry',\n",
       " 'pineapple']"
      ]
     },
     "execution_count": 18,
     "metadata": {},
     "output_type": "execute_result"
    }
   ],
   "source": [
    "#7. Program to Sort a List According to the Length of the Elements\n",
    "fruits = [\"apple\",\"orange\",\"banana\",\"lemon\",\"kiwi\",\"blueberry\",\"lichee\",\"pineapple\"]\n",
    "fruits.sort(key = lambda fruit :len(fruit))\n",
    "fruits"
   ]
  },
  {
   "cell_type": "code",
   "execution_count": 20,
   "metadata": {},
   "outputs": [
    {
     "data": {
      "text/plain": [
       "[2, 3, 5, 6, 7, 8, 9]"
      ]
     },
     "execution_count": 20,
     "metadata": {},
     "output_type": "execute_result"
    }
   ],
   "source": [
    "#8.Program to Find the Union of two Lists\n",
    "li1 = [2,3,5,6,7,8]\n",
    "li2 =[2,8,9,6,5,2]\n",
    "\n",
    "union = list(set(li1) | set(li2))\n",
    "union"
   ]
  },
  {
   "cell_type": "code",
   "execution_count": 23,
   "metadata": {},
   "outputs": [
    {
     "data": {
      "text/plain": [
       "[8, 2, 5, 6]"
      ]
     },
     "execution_count": 23,
     "metadata": {},
     "output_type": "execute_result"
    }
   ],
   "source": [
    "#9.Program to Find the Intersection of Two Lists\n",
    "li1 = [2,3,5,6,7,8]\n",
    "li2 =[2,8,9,6,5,2]\n",
    "\n",
    "intersection = list(set(li1) & set(li2))\n",
    "intersection\n"
   ]
  },
  {
   "cell_type": "code",
   "execution_count": 27,
   "metadata": {},
   "outputs": [
    {
     "name": "stdout",
     "output_type": "stream",
     "text": [
      "[(1, 1), (2, 4), (3, 9), (4, 16)]\n",
      "[(4, 16), (5, 25), (6, 36), (7, 49)]\n"
     ]
    }
   ],
   "source": [
    "#10.Program to Create a List of Tuples with the First Element as the Number and Second Element as the Square of the Number\n",
    "li = []\n",
    "sub_li=[]\n",
    "tup =()\n",
    "for i in range(1,5):\n",
    "    num = int(input(\"Enter a number\"))\n",
    "    x = num\n",
    "    y = num*num\n",
    "    sub_li.append(x)\n",
    "    sub_li.append(y)\n",
    "    if(len(sub_li) == 2):\n",
    "        tup = tuple(sub_li)\n",
    "        li.append(tup)\n",
    "        tup =()\n",
    "        sub_li=[]\n",
    "    else:\n",
    "        continue\n",
    "print(li)\n",
    "    \n",
    "# Another Method\n",
    "li1=[]\n",
    "for i in range(1,5) :\n",
    "    x = int(input(\"Enter a number\"))\n",
    "    li1.append(x)\n",
    "list_tuples = [(x , x**2) for i,x in enumerate(li1)]\n",
    "print(list_tuples)\n",
    "\n"
   ]
  },
  {
   "cell_type": "code",
   "execution_count": 67,
   "metadata": {},
   "outputs": [
    {
     "name": "stdout",
     "output_type": "stream",
     "text": [
      "[100, 81, 1, 4]\n"
     ]
    }
   ],
   "source": [
    "#11.Program to Find all Numbers in a Range which are Perfect Squares and Sum of all Digits in the Number is Less than 10\n",
    "'''\n",
    "import math\n",
    "math.isqrt(49) ** 2 == 49\n",
    "int((71 ** (1/2)) ** 2) == 49\n",
    "'''\n",
    "\n",
    "li=[2,49,100,81,125,1,4]\n",
    "\n",
    "def isSqrt(num):\n",
    "    return((num ** 0.5) ** 2) == num\n",
    "\n",
    "def Sum_of_all_Digits(num):\n",
    "    sum_digits = sum(int(i) for i in str(num))\n",
    "    # print(sum_digits)\n",
    "    return sum_digits < 10\n",
    "\n",
    "result = [num for num in li if isSqrt(num) and Sum_of_all_Digits(num)]\n",
    "\n",
    "print(result)\n"
   ]
  },
  {
   "cell_type": "code",
   "execution_count": 87,
   "metadata": {},
   "outputs": [
    {
     "name": "stdout",
     "output_type": "stream",
     "text": [
      "[1, 3, 6, 10]\n"
     ]
    }
   ],
   "source": [
    "#12.Program to Find the Cumulative Sum of a List where the ith Element \n",
    "# is the Sum of the First i+1 Elements From The Original List\n",
    "\n",
    "def sum_of_list(li):\n",
    "        result = 0;\n",
    "        li1 =[]\n",
    "        for num in li:\n",
    "            result += num\n",
    "            li1.append(result)\n",
    "        return li1\n",
    " \n",
    "li = []\n",
    "for i in range(1,5):\n",
    "    num = int(input(\"Enter a number :\"))\n",
    "    li.append(num)\n",
    "   \n",
    "cumulative_sum = sum_of_list(li)\n",
    "print(cumulative_sum)"
   ]
  },
  {
   "cell_type": "code",
   "execution_count": 115,
   "metadata": {},
   "outputs": [
    {
     "data": {
      "text/plain": [
       "[19, 11, 15, 6, 12, 5, 12, 15, 9, 15, 1, 14, 10, 2, 1, 15, 8, 8, 2]"
      ]
     },
     "execution_count": 115,
     "metadata": {},
     "output_type": "execute_result"
    }
   ],
   "source": [
    "#13.Program to Generate Random Numbers from 1 to 20 and Append Them to the List\n",
    "\n",
    "import random\n",
    "\n",
    "li =[ random.randint(1,20) for i in range(1,20)]\n",
    "# for i in range(1,20):\n",
    "#     li.append(random.randint(1,20))\n",
    "\n",
    "li\n",
    "\n"
   ]
  },
  {
   "cell_type": "code",
   "execution_count": 120,
   "metadata": {},
   "outputs": [
    {
     "data": {
      "text/plain": [
       "[[9, 4, 1], [5, 21], [6, 32], [1, 45, 68]]"
      ]
     },
     "execution_count": 120,
     "metadata": {},
     "output_type": "execute_result"
    }
   ],
   "source": [
    "#14.program to Sort a List of Tuples in Increasing Order by the Last Element in Each Tuple\n",
    "\n",
    "list_tuples = [[1,45,68],[9,4,1],[5,21],[6,32]]\n",
    "\n",
    "list_tuples.sort( key = lambda x :x[-1]) \n",
    "# list_tuples.reverse()\n",
    "list_tuples"
   ]
  },
  {
   "cell_type": "code",
   "execution_count": 131,
   "metadata": {},
   "outputs": [
    {
     "data": {
      "text/plain": [
       "[2, 4, 100, 81, 125, 1, 49]"
      ]
     },
     "execution_count": 131,
     "metadata": {},
     "output_type": "execute_result"
    }
   ],
   "source": [
    "#15. Program to Swap the First and Last Value of a List\n",
    "li=[2,49,100,81,125,1,4]\n",
    "'''\n",
    "temp = li.copy()\n",
    "temp[1] = li[-2]\n",
    "temp[-2] = li[1]\n",
    "temp\n",
    "'''\n",
    "li[1],li[-1] = li[-1],li[1]\n",
    "li\n"
   ]
  },
  {
   "cell_type": "code",
   "execution_count": 136,
   "metadata": {},
   "outputs": [
    {
     "data": {
      "text/plain": [
       "[1, 2, 3, 4, 5, 6]"
      ]
     },
     "execution_count": 136,
     "metadata": {},
     "output_type": "execute_result"
    }
   ],
   "source": [
    "#16.Program to Remove the Duplicate Items from a List\n",
    "\n",
    "li=[2,3,2,4,5,6,4,1]\n",
    "\n",
    "result = list(set(li))\n",
    "result"
   ]
  },
  {
   "cell_type": "code",
   "execution_count": 139,
   "metadata": {},
   "outputs": [
    {
     "data": {
      "text/plain": [
       "9"
      ]
     },
     "execution_count": 139,
     "metadata": {},
     "output_type": "execute_result"
    }
   ],
   "source": [
    "#17.Program to Read a List of Words and Return the Length of the Longest One\n",
    "fruits = [\"apple\",\"orange\",\"banana\",\"lemon\",\"kiwi\",\"blueberry\",\"lichee\",\"pineapple\"]\n",
    "fruits.sort( key= lambda fruit : len(fruit) )\n",
    "fruits[-1]\n",
    "len(fruits[-1])\n"
   ]
  },
  {
   "cell_type": "code",
   "execution_count": 167,
   "metadata": {},
   "outputs": [
    {
     "data": {
      "text/plain": [
       "['apple', 'banana', 'orange', 'kiwi', 'banana', 'lichee', 'pineapple']"
      ]
     },
     "execution_count": 167,
     "metadata": {},
     "output_type": "execute_result"
    }
   ],
   "source": [
    "#18.Program to Remove the ith Occurrence of the Given Word in a List where Words can Repeat\n",
    "fruits = [\"apple\",\"orange\",\"banana\",\"orange\",\"kiwi\",\"banana\",\"lichee\",\"pineapple\"]\n",
    "after_fruits_removed = []\n",
    "for fruit in fruits:\n",
    "    if(fruits.count(fruit) >= 2):\n",
    "        continue\n",
    "    else:\n",
    "        after_fruits_removed.append(fruit)\n",
    "\n",
    "after_fruits_removed\n",
    "# fruits.count(\"orange\")\n",
    "\n",
    "'''\n",
    "List of Words: ['apple', 'banana', 'apple', 'orange', 'apple', 'banana']\n",
    "\n",
    "Given Word: 'apple'\n",
    "\n",
    "ith Occurrence: 2\n",
    "\n",
    "['apple', 'banana', 'orange', 'apple', 'banana']\n",
    "\n",
    "'''\n",
    "def remove_Occurence(fruits,Given_Word,Occurence):\n",
    "    count = 0\n",
    "    found = 0\n",
    "    for i,fruit in enumerate(fruits):\n",
    "        if(Given_Word == fruit):\n",
    "            count += 1\n",
    "            if(count == Occurence):\n",
    "                found = i\n",
    "                break\n",
    "    fruits.pop(found)\n",
    "    return fruits\n",
    "\n",
    "fruits = [\"apple\",\"orange\",\"banana\",\"orange\",\"kiwi\",\"banana\",\"lichee\",\"pineapple\"]\n",
    "Given_Word ='orange'\n",
    "Occurence = 1\n",
    "result = remove_Occurence(fruits,Given_Word,Occurence)\n",
    "result"
   ]
  },
  {
   "cell_type": "code",
   "execution_count": 180,
   "metadata": {},
   "outputs": [
    {
     "name": "stdout",
     "output_type": "stream",
     "text": [
      "['apple', 'orange', 'orange', 'orange', 'lichee', 'pineapple']\n"
     ]
    }
   ],
   "source": [
    "#22.Program to Find Element Occurring Odd Number of Times in a List\n",
    "\n",
    "def odd_Occurence(fruits):\n",
    "    li = []\n",
    "    for fruit in fruits:\n",
    "        if fruits.count(fruit) % 2 != 0:\n",
    "            li.append(fruit)\n",
    "    return li\n",
    " \n",
    "\n",
    "fruits = [\"apple\", \"orange\", \"banana\", \"orange\", \"banana\", \"orange\", \"lichee\", \"pineapple\"]\n",
    "result = odd_Occurence(fruits)\n",
    "print(result)\n",
    "\n"
   ]
  }
 ],
 "metadata": {
  "kernelspec": {
   "display_name": "Python 3",
   "language": "python",
   "name": "python3"
  },
  "language_info": {
   "codemirror_mode": {
    "name": "ipython",
    "version": 3
   },
   "file_extension": ".py",
   "mimetype": "text/x-python",
   "name": "python",
   "nbconvert_exporter": "python",
   "pygments_lexer": "ipython3",
   "version": "3.12.3"
  }
 },
 "nbformat": 4,
 "nbformat_minor": 2
}
