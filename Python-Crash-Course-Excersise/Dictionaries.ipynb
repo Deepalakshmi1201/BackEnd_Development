{
 "cells": [
  {
   "cell_type": "code",
   "execution_count": 1,
   "metadata": {},
   "outputs": [
    {
     "data": {
      "text/plain": [
       "[{'name': 'dhee', 'age': 22, 'degree': 'BE ECE'},\n",
       " {'name': 'Ando', 'age': 22, 'degree': 'BSC BIo'},\n",
       " {'name': 'Man', 'age': 22, 'degree': 'BE ECE'}]"
      ]
     },
     "execution_count": 1,
     "metadata": {},
     "output_type": "execute_result"
    }
   ],
   "source": [
    "#1.Program to Add a Key-Value Pair to the Dictionary\n",
    "\n",
    "profiles =[]\n",
    "for i in range(1,4):\n",
    "    name = str(input(\"Enter a name :\"))\n",
    "    age = int(input(\"Enter a age :\"))\n",
    "    degree = str(input(\"Enter a Degree\"))\n",
    "    profile ={'name' : name,\"age\" :age,\"degree\":degree}\n",
    "    profiles.append(profile)\n",
    "\n",
    "profiles"
   ]
  },
  {
   "cell_type": "code",
   "execution_count": 22,
   "metadata": {},
   "outputs": [],
   "source": [
    "#2. Program to Concatenate Two Dictionaries Into One\n",
    "# profiles:[]\n",
    "# info =[]\n",
    "name = str(input(\"Enter a name :\"))\n",
    "age = int(input(\"Enter a age :\"))\n",
    "degree = str(input(\"Enter a Degree\"))\n",
    "profile ={'name' : name,\"age\" :age,\"degree\":degree}\n",
    "\n",
    "college_name = str(input(\"Enter a college name :\"))\n",
    "year_of_degree = int(input(\"Enter a year of degree :\"))\n",
    "info = {'college_name' : college_name,'year_of_degree'  : year_of_degree}\n",
    "\n",
    " \n",
    "\n",
    "profile\n",
    "info\n",
    "details = profile.update(info)\n",
    "details"
   ]
  },
  {
   "cell_type": "code",
   "execution_count": 7,
   "metadata": {},
   "outputs": [
    {
     "data": {
      "text/plain": [
       "True"
      ]
     },
     "execution_count": 7,
     "metadata": {},
     "output_type": "execute_result"
    }
   ],
   "source": [
    "#3.Program to Check if a Given Key Exists in a Dictionary or Not\n",
    "profiles =[]\n",
    "for i in range(1,2):\n",
    "    name = str(input(\"Enter a name :\"))\n",
    "    age = int(input(\"Enter a age :\"))\n",
    "    degree = str(input(\"Enter a Degree\"))\n",
    "    profile ={'name' : name,\"age\" :age,\"degree\":degree}\n",
    "    profiles.append(profile)\n",
    "profiles\n",
    "'name' in profile\n"
   ]
  },
  {
   "cell_type": "code",
   "execution_count": 33,
   "metadata": {},
   "outputs": [
    {
     "name": "stdout",
     "output_type": "stream",
     "text": [
      "{1: 1}\n",
      "{2: 4}\n",
      "{3: 9}\n",
      "{4: 16}\n",
      "{5: 25}\n",
      "{6: 36}\n",
      "{7: 49}\n",
      "{8: 64}\n",
      "{9: 81}\n",
      "{10: 100}\n"
     ]
    },
    {
     "data": {
      "text/plain": [
       "{1: 1, 2: 4, 3: 9, 4: 16, 5: 25, 6: 36, 7: 49, 8: 64, 9: 81, 10: 100}"
      ]
     },
     "execution_count": 33,
     "metadata": {},
     "output_type": "execute_result"
    }
   ],
   "source": [
    "#4.Program to Generate a Dictionary that Contains Numbers (between 1 and n) in the Form (x,x*x).\n",
    "\n",
    "numbers  =[]\n",
    "\n",
    "for i in range (1,11):\n",
    "    number = {i :i*i}\n",
    "    numbers.append(number)\n",
    "\n",
    "for num in numbers:\n",
    "    print(num)\n",
    "\n",
    "#Another Method\n",
    "\n",
    "def Sqrt_dict(n):\n",
    "    sqrt = {x:x*x for x in range(1,n+1)}\n",
    "    return sqrt\n",
    "\n",
    "Sqrt_dict(10)"
   ]
  },
  {
   "cell_type": "code",
   "execution_count": 2,
   "metadata": {},
   "outputs": [
    {
     "data": {
      "text/plain": [
       "385"
      ]
     },
     "execution_count": 2,
     "metadata": {},
     "output_type": "execute_result"
    }
   ],
   "source": [
    "#5.Program to Sum All the Items in a Dictionary\n",
    "\n",
    "def sqrt_dict(number):\n",
    "    sqrt = {x : x*x  for x in range(1,number+1)}\n",
    "    return sqrt\n",
    "\n",
    "def sum_all_items(numbers):\n",
    "    return sum(numbers.values())\n",
    "\n",
    "numbers = sqrt_dict(10)\n",
    "sum_all_items(numbers)\n",
    "\n"
   ]
  },
  {
   "cell_type": "code",
   "execution_count": 11,
   "metadata": {},
   "outputs": [
    {
     "data": {
      "text/plain": [
       "13168189440000"
      ]
     },
     "execution_count": 11,
     "metadata": {},
     "output_type": "execute_result"
    }
   ],
   "source": [
    "#6.Program to Multiply All the Items in a Dictionary\n",
    "def sqrt_dict(number):\n",
    "    sqrt = {x : x*x  for x in range(1,number+1)}\n",
    "    return sqrt\n",
    "\n",
    "def mul_all_items(numbers):\n",
    "    mul = 1\n",
    "    for key , value in numbers.items():\n",
    "        mul *= value\n",
    "    return mul\n",
    "\n",
    "numbers = sqrt_dict(10)\n",
    "mul_all_items(numbers)"
   ]
  },
  {
   "cell_type": "code",
   "execution_count": 13,
   "metadata": {},
   "outputs": [
    {
     "data": {
      "text/plain": [
       "{'age': 21}"
      ]
     },
     "execution_count": 13,
     "metadata": {},
     "output_type": "execute_result"
    }
   ],
   "source": [
    "#7.Program to Remove the Given Key from a Dictionary\n",
    "\n",
    "profile={'name' : \"dhee\",'age' : 21}\n",
    "if 'name' in profile.keys():\n",
    "    del profile['name']\n",
    "profile"
   ]
  },
  {
   "cell_type": "code",
   "execution_count": 14,
   "metadata": {},
   "outputs": [
    {
     "data": {
      "text/plain": [
       "{'name': 'dhee', 'age': 21, 'grade': '3rd grade'}"
      ]
     },
     "execution_count": 14,
     "metadata": {},
     "output_type": "execute_result"
    }
   ],
   "source": [
    "#8.Program to Form a Dictionary from an Object of a Class\n",
    "\n",
    "class Student:\n",
    "    def __init__(self,name,age,grade):\n",
    "        self.name = name\n",
    "        self.age = age\n",
    "        self.grade = grade\n",
    "\n",
    "def obj_to_dict(obj):\n",
    "    return obj.__dict__\n",
    "\n",
    "stu_obj = Student(\"dhee\",21,\"3rd grade\")\n",
    "stu_dict = obj_to_dict(stu_obj)\n",
    "\n",
    "stu_dict"
   ]
  },
  {
   "cell_type": "code",
   "execution_count": 19,
   "metadata": {},
   "outputs": [
    {
     "data": {
      "text/plain": [
       "{'name': 'dhee', 'age': 21, 'grade': '3rd grade'}"
      ]
     },
     "execution_count": 19,
     "metadata": {},
     "output_type": "execute_result"
    }
   ],
   "source": [
    "#9.Program to Map Two Lists into a Dictionary\n",
    "\n",
    "keys = [\"name\",\"age\",\"grade\"]\n",
    "values =[\"dhee\",21,\"3rd grade\"]\n",
    "\n",
    "Student = dict(zip(keys,values))\n",
    "Student"
   ]
  },
  {
   "cell_type": "code",
   "execution_count": 33,
   "metadata": {},
   "outputs": [
    {
     "data": {
      "text/plain": [
       "{'This': 2,\n",
       " 'is': 2,\n",
       " 'an': 2,\n",
       " 'example': 1,\n",
       " 'sentence': 2,\n",
       " 'just': 1,\n",
       " 'example.': 1}"
      ]
     },
     "execution_count": 33,
     "metadata": {},
     "output_type": "execute_result"
    }
   ],
   "source": [
    "#10.Program to Count the Frequency of Words Appearing in a String Using a Dictionary\n",
    "\n",
    "text = \"This is an example sentence This sentence is just an example.\"\n",
    "words = text.split()\n",
    "dict_count={}\n",
    "for word in words:\n",
    "    dict_count[word]= dict_count.get(word,0) +1\n",
    "    \n",
    "dict_count"
   ]
  },
  {
   "cell_type": "code",
   "execution_count": 40,
   "metadata": {},
   "outputs": [
    {
     "name": "stdout",
     "output_type": "stream",
     "text": [
      "{'a': ['apple', 'ant'], 'b': ['banana'], 'c': ['cow', 'cat'], 'g': ['goat'], 'm': ['mango']}\n"
     ]
    }
   ],
   "source": [
    "#11.Program to Create a Dictionary with Key as First Character and Value as Words Starting with that Character\n",
    "text = \"apple banana cow goat cat ant mango\"\n",
    "words = text.split()\n",
    "char_dict ={}\n",
    "for word in words:\n",
    "    first_ch = word[0]\n",
    "    if first_ch in char_dict:\n",
    "        char_dict[first_ch].append(word)\n",
    "    else:\n",
    "        char_dict[first_ch] = [word]\n",
    "print(char_dict)"
   ]
  }
 ],
 "metadata": {
  "kernelspec": {
   "display_name": "Python 3",
   "language": "python",
   "name": "python3"
  },
  "language_info": {
   "codemirror_mode": {
    "name": "ipython",
    "version": 3
   },
   "file_extension": ".py",
   "mimetype": "text/x-python",
   "name": "python",
   "nbconvert_exporter": "python",
   "pygments_lexer": "ipython3",
   "version": "3.12.3"
  }
 },
 "nbformat": 4,
 "nbformat_minor": 2
}
