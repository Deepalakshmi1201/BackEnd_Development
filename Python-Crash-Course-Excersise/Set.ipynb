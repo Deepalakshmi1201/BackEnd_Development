{
 "cells": [
  {
   "cell_type": "code",
   "execution_count": 4,
   "metadata": {},
   "outputs": [
    {
     "name": "stdout",
     "output_type": "stream",
     "text": [
      "2\n"
     ]
    }
   ],
   "source": [
    "#1.Program to Count the Number of Vowels Present in a String using Sets\n",
    "\n",
    "word = str(input(\"Enter a String\"))\n",
    "vowels = set(\"AEIOUaeiou\") \n",
    "count = 0\n",
    "for ch in word:\n",
    "    if ch in vowels:\n",
    "        count += 1\n",
    "print(count)\n",
    "\n"
   ]
  },
  {
   "cell_type": "code",
   "execution_count": 5,
   "metadata": {},
   "outputs": [
    {
     "data": {
      "text/plain": [
       "{'d', 'e'}"
      ]
     },
     "execution_count": 5,
     "metadata": {},
     "output_type": "execute_result"
    }
   ],
   "source": [
    "#2.Program to Check Common Letters in Two Input String\n",
    "word1 = str(input(\"Enter a String\"))\n",
    "word2 = str(input(\"Enter a String\"))\n",
    "\n",
    "result = set(word1) & set(word2)\n",
    "result\n"
   ]
  },
  {
   "cell_type": "code",
   "execution_count": 7,
   "metadata": {},
   "outputs": [
    {
     "data": {
      "text/plain": [
       "{'h'}"
      ]
     },
     "execution_count": 7,
     "metadata": {},
     "output_type": "execute_result"
    }
   ],
   "source": [
    "#3.Program that Displays which Letters are in the First String but not in the Second\n",
    "word1 = str(input(\"Enter a String\"))\n",
    "word2 = str(input(\"Enter a String\"))\n",
    "\n",
    "result = set(word1) - set(word2)\n",
    "result"
   ]
  },
  {
   "cell_type": "code",
   "execution_count": 8,
   "metadata": {},
   "outputs": [
    {
     "data": {
      "text/plain": [
       "{'a', 'd', 'e', 'h', 'p'}"
      ]
     },
     "execution_count": 8,
     "metadata": {},
     "output_type": "execute_result"
    }
   ],
   "source": [
    "#4.Program that Displays which Letters are Present in Both the Strings\n",
    "word1 = str(input(\"Enter a String\"))\n",
    "word2 = str(input(\"Enter a String\"))\n",
    "\n",
    "result = set(word1) | set(word2)\n",
    "result\n"
   ]
  },
  {
   "cell_type": "code",
   "execution_count": 10,
   "metadata": {},
   "outputs": [
    {
     "data": {
      "text/plain": [
       "{'b', 'e', 'l', 'n', 'p'}"
      ]
     },
     "execution_count": 10,
     "metadata": {},
     "output_type": "execute_result"
    }
   ],
   "source": [
    "#5.Program that Displays which Letters are in the Two Strings but not in Both\n",
    "word1 = str(input(\"Enter a String\"))\n",
    "word2 = str(input(\"Enter a String\"))\n",
    "\n",
    "result = set(word1) ^ set(word2)\n",
    "result"
   ]
  }
 ],
 "metadata": {
  "kernelspec": {
   "display_name": "Python 3",
   "language": "python",
   "name": "python3"
  },
  "language_info": {
   "codemirror_mode": {
    "name": "ipython",
    "version": 3
   },
   "file_extension": ".py",
   "mimetype": "text/x-python",
   "name": "python",
   "nbconvert_exporter": "python",
   "pygments_lexer": "ipython3",
   "version": "3.12.3"
  }
 },
 "nbformat": 4,
 "nbformat_minor": 2
}
