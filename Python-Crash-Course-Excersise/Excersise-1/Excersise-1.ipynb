{
 "cells": [
  {
   "cell_type": "code",
   "execution_count": 3,
   "metadata": {},
   "outputs": [
    {
     "name": "stdout",
     "output_type": "stream",
     "text": [
      "Odd\n"
     ]
    }
   ],
   "source": [
    "# 1.Write a python program that will confirm if a number is even or odd.\n",
    "num = int(input(\"Enter a num :\"))\n",
    "if(num % 2 == 0):\n",
    "    print(\"Even\")\n",
    "else:\n",
    "    print(\"Odd\")"
   ]
  },
  {
   "cell_type": "code",
   "execution_count": 7,
   "metadata": {},
   "outputs": [
    {
     "name": "stdout",
     "output_type": "stream",
     "text": [
      "Enter a number between 1500 and 2700\n"
     ]
    }
   ],
   "source": [
    "# 2.Write a python program that will find out if a number is divisible by 7 and a multiple of 5. \n",
    "#The number will be entered by the user and the number entered by the user must be between 1500 and 2700 both included.\n",
    "\n",
    "num = int(input(\"Enter a num :\"))\n",
    "if(num < 1500 or num > 2700):\n",
    "    print(\"Enter a number between 1500 and 2700\")\n",
    "else:\n",
    "    if(num % 7 == 0 & num % 5 == 0):\n",
    "        print(f\"{num} is divisible of 5 and 7\")\n",
    "    else:\n",
    "        print(f\"{num} is not a divisible of 5 and 7 \")\n",
    "\n",
    "\n"
   ]
  },
  {
   "cell_type": "code",
   "execution_count": 15,
   "metadata": {},
   "outputs": [
    {
     "data": {
      "text/plain": [
       "'Ahiyd'"
      ]
     },
     "execution_count": 15,
     "metadata": {},
     "output_type": "execute_result"
    }
   ],
   "source": [
    "#5.Write a python program that will accept a word from the user. The program will swap the first and the last character of the word. The First character of the resulting string must be an upper case \n",
    "#while the last character of the resulting string must be a lower case character.\n",
    "\n",
    "word = str(input(\"Enter a word\"))\n",
    "first = word[0]\n",
    "last = word[-1]\n",
    "output = last.upper()+word[1:-1]+first.lower()\n",
    "output\n"
   ]
  },
  {
   "cell_type": "code",
   "execution_count": 19,
   "metadata": {},
   "outputs": [
    {
     "name": "stdout",
     "output_type": "stream",
     "text": [
      "z is consonant\n"
     ]
    }
   ],
   "source": [
    "#6.Write a python program that will accept an alphabet from the user. \n",
    "#The program should tell the user if the character is a vowel or a consonant.\n",
    "\n",
    "ch = input(\"Enter a character :\")\n",
    "ch.lower()\n",
    "if(ch == 'a' or ch == 'e' or ch == 'i' or ch == 'o' or ch == 'u'):\n",
    "    print(f\"{ch} is vowel\")\n",
    "else:\n",
    "    print(f\"{ch} is consonant\")"
   ]
  },
  {
   "cell_type": "code",
   "execution_count": 28,
   "metadata": {},
   "outputs": [
    {
     "name": "stdout",
     "output_type": "stream",
     "text": [
      "FIZZ\n"
     ]
    }
   ],
   "source": [
    "# 7.Write a python program that will accept a number from the user then print 'FIZZ' if it is a multiple of 3, \n",
    "#print 'BUZZ' if it is a multiple of 5, print \"FIZZBUZZ\" if it is a multiple of 3 and 5.\n",
    "\n",
    "num = int(input(\"Enter a number\"))\n",
    "if(num % 3 == 0):\n",
    "    print('FIZZ')\n",
    "elif(num % 5 == 0):\n",
    "    print('BUZZ')\n",
    "elif(num % 3 == 0 and num % 5 == 0):\n",
    "    print('FIZZBUZZ')\n",
    "else:\n",
    "    print(f\"{num} not divible by 3 and 5\")"
   ]
  },
  {
   "cell_type": "code",
   "execution_count": 29,
   "metadata": {},
   "outputs": [
    {
     "name": "stdout",
     "output_type": "stream",
     "text": [
      "**********\n",
      "*\n",
      "*\n",
      "*\n",
      "*\n",
      "**********\n",
      "*\n",
      "*\n",
      "*\n",
      "*\n",
      "**********\n"
     ]
    }
   ],
   "source": [
    "# 8.Write a Python program to print the alphabet pattern 'E'\n",
    "\n",
    "print(\"*\" * 10)\n",
    "for i in range(1,5):\n",
    "    print(\"*\")\n",
    "print(\"*\" * 10)\n",
    "for i in range(1,5):\n",
    "    print(\"*\")\n",
    "print(\"*\" * 10)"
   ]
  },
  {
   "cell_type": "code",
   "execution_count": 31,
   "metadata": {},
   "outputs": [
    {
     "name": "stdout",
     "output_type": "stream",
     "text": [
      "*\n",
      "*\n",
      "*\n",
      "*\n",
      "*\n",
      "*\n",
      "**********\n"
     ]
    }
   ],
   "source": [
    "#9.Write a Python program to print the alphabet pattern 'L'\n",
    "for i in range(1,7):\n",
    "    print(\"*\")\n",
    "print(\"*\" * 10)"
   ]
  },
  {
   "cell_type": "code",
   "execution_count": 33,
   "metadata": {},
   "outputs": [
    {
     "name": "stdout",
     "output_type": "stream",
     "text": [
      "0\n"
     ]
    }
   ],
   "source": [
    "#10.Write a Python program to sum two integers. However, if the sum is between 15 and 20 it will return 20.\n",
    "\n",
    "num1 = int(input(\"Enter a number :\"))\n",
    "num2 = int(input(\"Enter a number :\"))\n",
    "sum = num1 + num2\n",
    "if(sum >= 15 and sum <=20):\n",
    "    print(\"20\")\n",
    "else:\n",
    "    print(sum)"
   ]
  },
  {
   "cell_type": "code",
   "execution_count": 42,
   "metadata": {},
   "outputs": [
    {
     "name": "stdout",
     "output_type": "stream",
     "text": [
      "1 X 1 = 1\n",
      "1 X 2 = 2\n",
      "1 X 3 = 3\n",
      "1 X 4 = 4\n",
      "1 X 5 = 5\n",
      "1 X 6 = 6\n",
      "1 X 7 = 7\n",
      "1 X 8 = 8\n",
      "1 X 9 = 9\n"
     ]
    }
   ],
   "source": [
    "#12.Write a Python program to create the multiplication table (from 1 to 10) of a number entered by the user.\n",
    "\n",
    "for i in range(1,2):\n",
    "    for j in range(1,10):\n",
    "        print(f\"{i} X {j} = {i*j}\" )"
   ]
  },
  {
   "cell_type": "code",
   "execution_count": 46,
   "metadata": {},
   "outputs": [
    {
     "name": "stdout",
     "output_type": "stream",
     "text": [
      "hello\n"
     ]
    }
   ],
   "source": [
    "# 13.Write a program to type Hello if the number entered by a User is a multiple of 4 otherwise print Bye.\n",
    "num = int(input(\"Enter a num :\"))\n",
    "if(num % 4 == 0):\n",
    "    print(\"hello\")\n",
    "else:\n",
    "    print(\"Bye\")"
   ]
  },
  {
   "cell_type": "code",
   "execution_count": 1,
   "metadata": {},
   "outputs": [
    {
     "name": "stdout",
     "output_type": "stream",
     "text": [
      "1 is first digit \n",
      " 5 is last digit\n"
     ]
    }
   ],
   "source": [
    "# 14.Write a program that will accept a number from the user then the program will display the first and last digit of the number.\n",
    "num = int(input(\"Enter a num :\"))\n",
    "last = num % 10\n",
    "while num >= 10:\n",
    "    num = num // 10\n",
    "\n",
    "print(f\"{num} is first digit \\n{last} is last digit\" )\n"
   ]
  },
  {
   "cell_type": "code",
   "execution_count": 2,
   "metadata": {},
   "outputs": [
    {
     "name": "stdout",
     "output_type": "stream",
     "text": [
      "10.35 percent\n"
     ]
    }
   ],
   "source": [
    "# 16.Write a python program that will accept the cost price of a bike then calculate the amount to be paid as tax based on the following criteria.\n",
    "# More than 100000 - 23.25 percent\n",
    "# Between 80000 and 100000 - 20.05 percent\n",
    "# Between 60000 and 80000 - 18.50 percent\n",
    "# Between 40000 and 60000 - 15.75 percent\n",
    "# Between 10000 and 40000 - 12.5 percent\n",
    "# Between 5000 and 10000 - 10.35 percent\n",
    "# Below 5000 - 8.75 percent\n",
    "# NOTE - The upper bound of the ranges are exclusive.\n",
    "\n",
    "price = int(input(\"Enter a price : \"))\n",
    "if(price > 100000 ):\n",
    "    print(\"23.25 percent\")\n",
    "elif(price > 80000 and price < 100000):\n",
    "    print(\"18.50 percent\")\n",
    "elif(price > 60000 and price < 80000):\n",
    "    print(\"15.75 percent\")\n",
    "elif(price > 40000 and price < 60000):\n",
    "    print(\"12.5 percent\")\n",
    "elif(price > 10000 and price < 40000):\n",
    "    print(\"10.35 percent\")\n",
    "elif(price < 5000 ):\n",
    "    print(\"18.50 percent\")\n"
   ]
  },
  {
   "cell_type": "code",
   "execution_count": 4,
   "metadata": {},
   "outputs": [
    {
     "name": "stdout",
     "output_type": "stream",
     "text": [
      "2015 is not a leap Year\n"
     ]
    }
   ],
   "source": [
    "#17.Write a python program that will check if a year is a leap year or not.\n",
    "\n",
    "Year = int(input(\"Enter a Year :\"))\n",
    "\n",
    "if(Year % 4 == 0 or Year % 400 == 0):\n",
    "    print(f\"{Year} is leap Year\")\n",
    "else:\n",
    "    print(f\"{Year} is not a leap Year\")\n"
   ]
  },
  {
   "cell_type": "code",
   "execution_count": null,
   "metadata": {},
   "outputs": [],
   "source": [
    "#18.Write a python program to check if a number entered is 3 digit or not.\n",
    "\n",
    "num = int(input(\"Enter a number : \"))\n",
    "\n",
    "result = num /100\n",
    "\n",
    "if(result >= 1 and result <= 10):\n",
    "    print(f\"{num} is 3 digit\")\n",
    "else:\n",
    "    print(f\"{num} is less or more than 3 digit number\")"
   ]
  },
  {
   "cell_type": "code",
   "execution_count": 6,
   "metadata": {},
   "outputs": [
    {
     "name": "stdout",
     "output_type": "stream",
     "text": [
      "Positive\n"
     ]
    }
   ],
   "source": [
    "#19.Write a python program to check whether a number entered by the user is positive, negative or zero.\n",
    "\n",
    "num = int(input(\"Enter a number : \"))\n",
    "\n",
    "if(num > 0):\n",
    "    print(\"Positive\")\n",
    "elif(num < 0):\n",
    "    print(\"Negative\")\n",
    "else:\n",
    "    print(\"Zero\")"
   ]
  },
  {
   "cell_type": "code",
   "execution_count": 10,
   "metadata": {},
   "outputs": [
    {
     "name": "stdout",
     "output_type": "stream",
     "text": [
      "[12, 34, 56, 78]\n",
      "12 is Youngest\n",
      "78 is Oldest\n"
     ]
    }
   ],
   "source": [
    "#20.Write a program that will accept the age of 4 people then display the youngest one and the oldest one.\n",
    "ages = []\n",
    "for i in range(1,5):\n",
    "    age = int(input(\"Enter a num\"))\n",
    "    ages = ages +[age]\n",
    "print(ages)\n",
    "   \n",
    "for i,age in enumerate(ages):\n",
    "    if max(ages)  == age:\n",
    "        print(f\"{age} is Oldest\")\n",
    "    elif min(ages) == age:\n",
    "        print(f\"{age} is Youngest\")"
   ]
  },
  {
   "cell_type": "code",
   "execution_count": 16,
   "metadata": {},
   "outputs": [
    {
     "name": "stdout",
     "output_type": "stream",
     "text": [
      "78.0% worker went to work\n"
     ]
    }
   ],
   "source": [
    "#21.Write a python program to accept the following from the user then calculate the percentage of days the user went to work.\n",
    "# Total number of Working days\n",
    "# Total number of days absent\n",
    "\n",
    "work = int(input(\"Enter Total number of Working days\"))\n",
    "absent = int(input(\"Enter a Total number of days absent\"))\n",
    "present = work -absent \n",
    "working = present * 100 / work\n",
    "\n",
    "print(f\"{working}% worker went to work\")\n"
   ]
  },
  {
   "cell_type": "code",
   "execution_count": 4,
   "metadata": {},
   "outputs": [
    {
     "name": "stdout",
     "output_type": "stream",
     "text": [
      "6 and 1260.0 and 60.0\n"
     ]
    }
   ],
   "source": [
    "#22.A company decides to give bonus to employees according to the following criteria based on their period of service.\n",
    "# Above 10 Years - 10%\n",
    "# Between 6 and 10 years - 8%\n",
    "# Less than 6 Years - 5%\n",
    "# The user is to give their salary and their period of service. The program should print their Bonus.\n",
    "\n",
    "year = int(input(\"Enter a service Year\"))\n",
    "salary = int(input(\"Enter a salary\"))\n",
    "\n",
    "if year > 10 :\n",
    "    bonus = (10 / 100) * salary\n",
    "    salary = salary+bonus\n",
    "    print(f\"{year} and {salary} and {bonus}\")\n",
    "elif year >= 10 and year < 6:\n",
    "    bonus = (8 / 100) * salary\n",
    "    salary = salary+bonus\n",
    "    print(f\"{year} and {salary} and {bonus}\")\n",
    "elif year <= 6:\n",
    "    bonus = (5 / 100) * salary\n",
    "    salary = salary+bonus\n",
    "    print(f\"{year} and {salary} and {bonus}\")\n",
    "\n"
   ]
  },
  {
   "cell_type": "code",
   "execution_count": null,
   "metadata": {},
   "outputs": [],
   "source": []
  }
 ],
 "metadata": {
  "kernelspec": {
   "display_name": "Python 3",
   "language": "python",
   "name": "python3"
  },
  "language_info": {
   "codemirror_mode": {
    "name": "ipython",
    "version": 3
   },
   "file_extension": ".py",
   "mimetype": "text/x-python",
   "name": "python",
   "nbconvert_exporter": "python",
   "pygments_lexer": "ipython3",
   "version": "3.12.3"
  }
 },
 "nbformat": 4,
 "nbformat_minor": 2
}
